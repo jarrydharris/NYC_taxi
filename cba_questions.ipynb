{
 "cells": [
  {
   "cell_type": "code",
   "execution_count": 1,
   "id": "1c4bdf18",
   "metadata": {},
   "outputs": [],
   "source": [
    "import pandas as pd\n",
    "import numpy as np\n",
    "import matplotlib.pyplot as plt\n",
    "import seaborn as sns"
   ]
  },
  {
   "cell_type": "code",
   "execution_count": 2,
   "id": "08bc0e27",
   "metadata": {},
   "outputs": [],
   "source": [
    "clean_data = pd.read_pickle('data/clean_data.pickle')\n",
    "clean_fare = pd.read_pickle('data/clean_fare.pickle')"
   ]
  },
  {
   "cell_type": "markdown",
   "id": "29873aab",
   "metadata": {},
   "source": [
    "# Basic Questions"
   ]
  },
  {
   "cell_type": "markdown",
   "id": "96d5befc",
   "metadata": {},
   "source": [
    "## a. What is the distribution of number of passengers per trip?"
   ]
  },
  {
   "cell_type": "code",
   "execution_count": 3,
   "id": "2cb70b5a",
   "metadata": {},
   "outputs": [],
   "source": [
    "passenger_dist = clean_data.groupby('passenger_count').count().iloc[:,0]\n",
    "passenger_dist = pd.DataFrame(passenger_dist).rename(columns={\"medallion\": \"counts\"})\n"
   ]
  },
  {
   "cell_type": "code",
   "execution_count": 4,
   "id": "f9eadd85",
   "metadata": {},
   "outputs": [
    {
     "data": {
      "text/plain": [
       "Int64Index([0, 1, 2, 3, 4, 5, 6, 8, 9], dtype='int64', name='passenger_count')"
      ]
     },
     "execution_count": 4,
     "metadata": {},
     "output_type": "execute_result"
    }
   ],
   "source": [
    "passenger_dist.index"
   ]
  },
  {
   "cell_type": "code",
   "execution_count": 5,
   "id": "afaf0494",
   "metadata": {
    "scrolled": true
   },
   "outputs": [
    {
     "data": {
      "image/png": "[encoded data removed]",
      "text/plain": [
       "<Figure size 432x288 with 1 Axes>"
      ]
     },
     "metadata": {
      "needs_background": "light"
     },
     "output_type": "display_data"
    }
   ],
   "source": [
    "sns.barplot(data=passenger_dist, x = passenger_dist.index, y=\"counts\")\n",
    "None"
   ]
  }
 ],
 "metadata": {
  "kernelspec": {
   "display_name": "Python 3 (ipykernel)",
   "language": "python",
   "name": "python3"
  },
  "language_info": {
   "codemirror_mode": {
    "name": "ipython",
    "version": 3
   },
   "file_extension": ".py",
   "mimetype": "text/x-python",
   "name": "python",
   "nbconvert_exporter": "python",
   "pygments_lexer": "ipython3",
   "version": "3.8.10"
  }
 },
 "nbformat": 4,
 "nbformat_minor": 5
}
