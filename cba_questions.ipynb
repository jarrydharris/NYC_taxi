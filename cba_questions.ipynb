{
 "cells": [
  {
   "cell_type": "code",
   "execution_count": 1,
   "id": "d4f0453e",
   "metadata": {},
   "outputs": [],
   "source": [
    "import pandas as pd\n",
    "import numpy as np\n",
    "import matplotlib.pyplot as plt\n",
    "import seaborn as sns"
   ]
  },
  {
   "cell_type": "code",
   "execution_count": 2,
   "id": "71700a19",
   "metadata": {},
   "outputs": [],
   "source": [
    "clean_data = pd.read_pickle('data/clean_data.pickle')\n",
    "clean_fare = pd.read_pickle('data/clean_fare.pickle')"
   ]
  },
  {
   "cell_type": "markdown",
   "id": "e6cf30aa",
   "metadata": {},
   "source": [
    "# Basic Questions"
   ]
  },
  {
   "cell_type": "markdown",
   "id": "d1a7ed95",
   "metadata": {},
   "source": [
    "## a. What is the distribution of number of passengers per trip?"
   ]
  },
  {
   "cell_type": "code",
   "execution_count": 3,
   "id": "ef5a7d88",
   "metadata": {},
   "outputs": [],
   "source": [
    "# Count the number of observations that belong to each value of \n",
    "# passenger count. Storing as a dataframe for plotting.\n",
    "passenger_dist = clean_data.groupby('passenger_count').count().iloc[:,0]\n",
    "passenger_dist = pd.DataFrame(passenger_dist).rename(columns={\"medallion\": \"counts\"})\n",
    "passenger_dist.reset_index(inplace=True)"
   ]
  },
  {
   "cell_type": "code",
   "execution_count": 10,
   "id": "e7148d52",
   "metadata": {
    "scrolled": true
   },
   "outputs": [
    {
     "data": {
      "image/png": "[encoded data removed]",
      "text/plain": [
       "<Figure size 432x288 with 1 Axes>"
      ]
     },
     "metadata": {
      "needs_background": "light"
     },
     "output_type": "display_data"
    }
   ],
   "source": [
    "passenger_plot = sns.barplot(data=passenger_dist, x = \"passenger_count\", y=\"counts\")\n",
    "plt.title(\"Distribution of passengers per trip\")\n",
    "passenger_plot.set_xlabel(\"Number of passengers\")\n",
    "passenger_plot.set_ylabel(\"Count\")\n",
    "plt.ticklabel_format(style='plain', axis='y')\n",
    "passenger_plot.bar_label(passenger_plot.containers[0], size=8, fmt=\"%d\")\n",
    "plt.show()"
   ]
  },
  {
   "cell_type": "markdown",
   "id": "24277845",
   "metadata": {},
   "source": [
    "## b. What is the distribution of payment_type?"
   ]
  },
  {
   "cell_type": "code",
   "execution_count": 7,
   "id": "b2ebea52",
   "metadata": {},
   "outputs": [],
   "source": [
    "payment_dist = clean_fare.groupby('payment_type').count().iloc[:,0]\n",
    "payment_dist = pd.DataFrame(payment_dist).rename(columns={\"medallion\": \"counts\"})"
   ]
  },
  {
   "cell_type": "code",
   "execution_count": 8,
   "id": "d769b34c",
   "metadata": {},
   "outputs": [
    {
     "data": {
      "text/html": [
       "<div>\n",
       "<style scoped>\n",
       "    .dataframe tbody tr th:only-of-type {\n",
       "        vertical-align: middle;\n",
       "    }\n",
       "\n",
       "    .dataframe tbody tr th {\n",
       "        vertical-align: top;\n",
       "    }\n",
       "\n",
       "    .dataframe thead th {\n",
       "        text-align: right;\n",
       "    }\n",
       "</style>\n",
       "<table border=\"1\" class=\"dataframe\">\n",
       "  <thead>\n",
       "    <tr style=\"text-align: right;\">\n",
       "      <th></th>\n",
       "      <th>counts</th>\n",
       "    </tr>\n",
       "    <tr>\n",
       "      <th>payment_type</th>\n",
       "      <th></th>\n",
       "    </tr>\n",
       "  </thead>\n",
       "  <tbody>\n",
       "    <tr>\n",
       "      <th>CRD</th>\n",
       "      <td>8105470</td>\n",
       "    </tr>\n",
       "    <tr>\n",
       "      <th>CSH</th>\n",
       "      <td>6943669</td>\n",
       "    </tr>\n",
       "    <tr>\n",
       "      <th>DIS</th>\n",
       "      <td>11552</td>\n",
       "    </tr>\n",
       "    <tr>\n",
       "      <th>NOC</th>\n",
       "      <td>33595</td>\n",
       "    </tr>\n",
       "    <tr>\n",
       "      <th>UNK</th>\n",
       "      <td>6182</td>\n",
       "    </tr>\n",
       "  </tbody>\n",
       "</table>\n",
       "</div>"
      ],
      "text/plain": [
       "               counts\n",
       "payment_type         \n",
       "CRD           8105470\n",
       "CSH           6943669\n",
       "DIS             11552\n",
       "NOC             33595\n",
       "UNK              6182"
      ]
     },
     "execution_count": 8,
     "metadata": {},
     "output_type": "execute_result"
    }
   ],
   "source": [
    "payment_dist"
   ]
  }
 ],
 "metadata": {
  "kernelspec": {
   "display_name": "Python 3 (ipykernel)",
   "language": "python",
   "name": "python3"
  },
  "language_info": {
   "codemirror_mode": {
    "name": "ipython",
    "version": 3
   },
   "file_extension": ".py",
   "mimetype": "text/x-python",
   "name": "python",
   "nbconvert_exporter": "python",
   "pygments_lexer": "ipython3",
   "version": "3.8.10"
  }
 },
 "nbformat": 4,
 "nbformat_minor": 5
}
