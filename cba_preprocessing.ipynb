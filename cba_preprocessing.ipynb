{
 "cells": [
  {
   "cell_type": "code",
   "execution_count": 1,
   "id": "e0158608",
   "metadata": {},
   "outputs": [],
   "source": [
    "import pandas as pd\n",
    "import numpy as np\n",
    "import matplotlib.pyplot as plt\n",
    "import seaborn as sns"
   ]
  },
  {
   "cell_type": "markdown",
   "id": "875929c5",
   "metadata": {},
   "source": [
    "# Importing data"
   ]
  },
  {
   "cell_type": "code",
   "execution_count": 2,
   "id": "e153c9e1",
   "metadata": {},
   "outputs": [],
   "source": [
    "raw_fare = pd.read_csv(\"data/trip_fare_4.csv\")"
   ]
  },
  {
   "cell_type": "code",
   "execution_count": 3,
   "id": "79f6caf7",
   "metadata": {},
   "outputs": [
    {
     "name": "stderr",
     "output_type": "stream",
     "text": [
      "/home/jarryd/python/Environments/cba/lib/python3.8/site-packages/IPython/core/interactiveshell.py:3457: DtypeWarning: Columns (4) have mixed types.Specify dtype option on import or set low_memory=False.\n",
      "  exec(code_obj, self.user_global_ns, self.user_ns)\n"
     ]
    }
   ],
   "source": [
    "raw_data = pd.read_csv(\"data/trip_data_4.csv\")"
   ]
  },
  {
   "cell_type": "markdown",
   "id": "cfcc8f5e",
   "metadata": {},
   "source": [
    "The files were too big for pandas to automatically assign the best data types, will need to do that manually."
   ]
  },
  {
   "cell_type": "code",
   "execution_count": 4,
   "id": "92ba55cb",
   "metadata": {},
   "outputs": [],
   "source": [
    "clean_fare = raw_fare\n",
    "clean_data = raw_data"
   ]
  },
  {
   "cell_type": "markdown",
   "id": "b913f766",
   "metadata": {},
   "source": [
    "# Initial data inspection and cleaning"
   ]
  },
  {
   "cell_type": "markdown",
   "id": "5be7d713",
   "metadata": {},
   "source": [
    "## Checking the variable names and dtypes"
   ]
  },
  {
   "cell_type": "code",
   "execution_count": 5,
   "id": "02b65a73",
   "metadata": {},
   "outputs": [
    {
     "data": {
      "text/plain": [
       "Index(['medallion', ' hack_license', ' vendor_id', ' pickup_datetime',\n",
       "       ' payment_type', ' fare_amount', ' surcharge', ' mta_tax',\n",
       "       ' tip_amount', ' tolls_amount', ' total_amount'],\n",
       "      dtype='object')"
      ]
     },
     "execution_count": 5,
     "metadata": {},
     "output_type": "execute_result"
    }
   ],
   "source": [
    "clean_fare.columns"
   ]
  },
  {
   "cell_type": "markdown",
   "id": "068cd15a",
   "metadata": {},
   "source": [
    "Visual inspection of the column names shows there is unnecessary whitespace."
   ]
  },
  {
   "cell_type": "code",
   "execution_count": 6,
   "id": "7268d531",
   "metadata": {},
   "outputs": [],
   "source": [
    "# removing the whitespace in column names\n",
    "clean_fare.columns = clean_fare.columns.str.replace(\" \", \"\")\n",
    "clean_data.columns = clean_data.columns.str.replace(\" \", \"\")"
   ]
  },
  {
   "cell_type": "code",
   "execution_count": 7,
   "id": "e55194f5",
   "metadata": {},
   "outputs": [],
   "source": [
    "# Change columns to a category\n",
    "clean_fare[\"medallion\"] = clean_fare[\"medallion\"].astype(\"category\")\n",
    "clean_fare[\"hack_license\"] = clean_fare[\"hack_license\"].astype(\"category\")\n",
    "\n",
    "clean_fare.vendor_id.unique() # Only 2 types \"CMT\" and \"VTF\"\n",
    "clean_fare[\"vendor_id\"] = clean_fare[\"vendor_id\"].astype(\"category\")\n",
    "\n",
    "clean_fare.payment_type.unique() # 'CRD', 'CSH', 'UNK', 'NOC', 'DIS'\n",
    "clean_fare[\"payment_type\"] = clean_fare[\"payment_type\"].astype(\"category\")\n",
    "\n",
    "# Change type to datetime \n",
    "clean_fare[\"pickup_datetime\"] = clean_fare[\"pickup_datetime\"].astype(\"datetime64\")"
   ]
  },
  {
   "cell_type": "code",
   "execution_count": 8,
   "id": "25c1e937",
   "metadata": {},
   "outputs": [],
   "source": [
    "# Change columns to a category\n",
    "clean_data[\"medallion\"] = clean_data[\"medallion\"].astype(\"category\")\n",
    "clean_data[\"hack_license\"] = clean_data[\"hack_license\"].astype(\"category\")\n",
    "\n",
    "clean_data.vendor_id.unique() # Only 2 types \"CMT\" and \"VTF\"\n",
    "clean_data[\"vendor_id\"] = clean_data[\"vendor_id\"].astype(\"category\")\n",
    "\n",
    "clean_data.rate_code.unique() # 0-9 and 65, 77, 206, 208, 210\n",
    "clean_data[\"rate_code\"] = clean_data[\"rate_code\"].astype(\"category\")\n",
    "\n",
    "clean_data.store_and_fwd_flag.unique() # Y, N, NA\n",
    "clean_data[\"store_and_fwd_flag\"] = clean_data[\"store_and_fwd_flag\"].astype(\"category\")\n",
    "\n",
    "# Change type to datetime \n",
    "clean_data[\"pickup_datetime\"] = clean_data[\"pickup_datetime\"].astype(\"datetime64\")\n",
    "clean_data[\"dropoff_datetime\"] = clean_data[\"dropoff_datetime\"].astype(\"datetime64\")"
   ]
  },
  {
   "cell_type": "code",
   "execution_count": 9,
   "id": "e2f42a2a",
   "metadata": {},
   "outputs": [],
   "source": [
    "def downcaster(df):\n",
    "    \"\"\"\n",
    "    Checks the dtype of each numerical variable and downcasts to the lowest \n",
    "    memory usage datatype possible\n",
    "    \n",
    "    param: pandas.core.frame.DataFrame\n",
    "    \n",
    "    returns: the downcasted dataframe\n",
    "    \"\"\"\n",
    "    for column in df.columns:\n",
    "        if df[column].dtype == \"int\":\n",
    "            downcast_type = \"integer\"\n",
    "        elif df[column].dtype == \"float\":\n",
    "            downcast_type = \"float\"\n",
    "        else:\n",
    "            continue\n",
    "        df[column] = pd.to_numeric(df[column], \n",
    "                                   errors='ignore', \n",
    "                                   downcast=downcast_type)\n",
    "    return df"
   ]
  },
  {
   "cell_type": "code",
   "execution_count": 10,
   "id": "f7763dbe",
   "metadata": {},
   "outputs": [],
   "source": [
    "# Downcasting to make things less memory intensive\n",
    "clean_data = downcaster(clean_data)\n",
    "clean_fare = downcaster(clean_fare)"
   ]
  },
  {
   "cell_type": "code",
   "execution_count": 11,
   "id": "44a43579",
   "metadata": {},
   "outputs": [
    {
     "name": "stdout",
     "output_type": "stream",
     "text": [
      "<class 'pandas.core.frame.DataFrame'>\n",
      "RangeIndex: 15100468 entries, 0 to 15100467\n",
      "Data columns (total 14 columns):\n",
      " #   Column              Dtype         \n",
      "---  ------              -----         \n",
      " 0   medallion           category      \n",
      " 1   hack_license        category      \n",
      " 2   vendor_id           category      \n",
      " 3   rate_code           category      \n",
      " 4   store_and_fwd_flag  category      \n",
      " 5   pickup_datetime     datetime64[ns]\n",
      " 6   dropoff_datetime    datetime64[ns]\n",
      " 7   passenger_count     int8          \n",
      " 8   trip_time_in_secs   int16         \n",
      " 9   trip_distance       float32       \n",
      " 10  pickup_longitude    float32       \n",
      " 11  pickup_latitude     float32       \n",
      " 12  dropoff_longitude   float32       \n",
      " 13  dropoff_latitude    float32       \n",
      "dtypes: category(5), datetime64[ns](2), float32(5), int16(1), int8(1)\n",
      "memory usage: 693.1 MB\n",
      "<class 'pandas.core.frame.DataFrame'>\n",
      "RangeIndex: 15100468 entries, 0 to 15100467\n",
      "Data columns (total 11 columns):\n",
      " #   Column           Dtype         \n",
      "---  ------           -----         \n",
      " 0   medallion        category      \n",
      " 1   hack_license     category      \n",
      " 2   vendor_id        category      \n",
      " 3   pickup_datetime  datetime64[ns]\n",
      " 4   payment_type     category      \n",
      " 5   fare_amount      float32       \n",
      " 6   surcharge        float32       \n",
      " 7   mta_tax          float32       \n",
      " 8   tip_amount       float32       \n",
      " 9   tolls_amount     float32       \n",
      " 10  total_amount     float32       \n",
      "dtypes: category(4), datetime64[ns](1), float32(6)\n",
      "memory usage: 577.9 MB\n"
     ]
    }
   ],
   "source": [
    "clean_data.info()\n",
    "clean_fare.info()"
   ]
  },
  {
   "cell_type": "markdown",
   "id": "82ca4797",
   "metadata": {},
   "source": [
    "Saved a few gb of memory!"
   ]
  },
  {
   "cell_type": "markdown",
   "id": "4c7c27e1",
   "metadata": {},
   "source": [
    "## Missing Values"
   ]
  },
  {
   "cell_type": "code",
   "execution_count": 12,
   "id": "4e4abc6a",
   "metadata": {},
   "outputs": [
    {
     "data": {
      "text/plain": [
       "medallion          0\n",
       "hack_license       0\n",
       "vendor_id          0\n",
       "pickup_datetime    0\n",
       "payment_type       0\n",
       "fare_amount        0\n",
       "surcharge          0\n",
       "mta_tax            0\n",
       "tip_amount         0\n",
       "tolls_amount       0\n",
       "total_amount       0\n",
       "dtype: int64"
      ]
     },
     "execution_count": 12,
     "metadata": {},
     "output_type": "execute_result"
    }
   ],
   "source": [
    "clean_fare.isna().sum()"
   ]
  },
  {
   "cell_type": "code",
   "execution_count": 13,
   "id": "d660cf2f",
   "metadata": {},
   "outputs": [
    {
     "data": {
      "text/plain": [
       "medallion                   0\n",
       "hack_license                0\n",
       "vendor_id                   0\n",
       "rate_code                   0\n",
       "store_and_fwd_flag    7518657\n",
       "pickup_datetime             0\n",
       "dropoff_datetime            0\n",
       "passenger_count             0\n",
       "trip_time_in_secs           0\n",
       "trip_distance               0\n",
       "pickup_longitude            0\n",
       "pickup_latitude             0\n",
       "dropoff_longitude         146\n",
       "dropoff_latitude          146\n",
       "dtype: int64"
      ]
     },
     "execution_count": 13,
     "metadata": {},
     "output_type": "execute_result"
    }
   ],
   "source": [
    "clean_data.isna().sum()"
   ]
  },
  {
   "cell_type": "markdown",
   "id": "d620aa26",
   "metadata": {},
   "source": [
    "Only missing values are relating to coordinates and store and fwd flag (this relates to when the fare system is down and the taxi driver needs to store the fare and upload it later, assuming NA means the system was functioning)."
   ]
  },
  {
   "cell_type": "markdown",
   "id": "dbfabbaf",
   "metadata": {},
   "source": [
    "## Summary Statistics"
   ]
  },
  {
   "cell_type": "code",
   "execution_count": 14,
   "id": "81c75bad",
   "metadata": {},
   "outputs": [
    {
     "data": {
      "text/html": [
       "<div>\n",
       "<style scoped>\n",
       "    .dataframe tbody tr th:only-of-type {\n",
       "        vertical-align: middle;\n",
       "    }\n",
       "\n",
       "    .dataframe tbody tr th {\n",
       "        vertical-align: top;\n",
       "    }\n",
       "\n",
       "    .dataframe thead th {\n",
       "        text-align: right;\n",
       "    }\n",
       "</style>\n",
       "<table border=\"1\" class=\"dataframe\">\n",
       "  <thead>\n",
       "    <tr style=\"text-align: right;\">\n",
       "      <th></th>\n",
       "      <th>fare_amount</th>\n",
       "      <th>surcharge</th>\n",
       "      <th>mta_tax</th>\n",
       "      <th>tip_amount</th>\n",
       "      <th>tolls_amount</th>\n",
       "      <th>total_amount</th>\n",
       "    </tr>\n",
       "  </thead>\n",
       "  <tbody>\n",
       "    <tr>\n",
       "      <th>count</th>\n",
       "      <td>15100468.00</td>\n",
       "      <td>15100468.00</td>\n",
       "      <td>15100468.00</td>\n",
       "      <td>15100468.00</td>\n",
       "      <td>15100468.00</td>\n",
       "      <td>15100468.00</td>\n",
       "    </tr>\n",
       "    <tr>\n",
       "      <th>mean</th>\n",
       "      <td>12.27</td>\n",
       "      <td>0.33</td>\n",
       "      <td>0.50</td>\n",
       "      <td>1.35</td>\n",
       "      <td>0.24</td>\n",
       "      <td>14.69</td>\n",
       "    </tr>\n",
       "    <tr>\n",
       "      <th>std</th>\n",
       "      <td>9.96</td>\n",
       "      <td>0.37</td>\n",
       "      <td>0.03</td>\n",
       "      <td>2.13</td>\n",
       "      <td>1.19</td>\n",
       "      <td>11.94</td>\n",
       "    </tr>\n",
       "    <tr>\n",
       "      <th>min</th>\n",
       "      <td>2.50</td>\n",
       "      <td>0.00</td>\n",
       "      <td>0.00</td>\n",
       "      <td>0.00</td>\n",
       "      <td>0.00</td>\n",
       "      <td>2.50</td>\n",
       "    </tr>\n",
       "    <tr>\n",
       "      <th>25%</th>\n",
       "      <td>6.50</td>\n",
       "      <td>0.00</td>\n",
       "      <td>0.50</td>\n",
       "      <td>0.00</td>\n",
       "      <td>0.00</td>\n",
       "      <td>8.00</td>\n",
       "    </tr>\n",
       "    <tr>\n",
       "      <th>50%</th>\n",
       "      <td>9.50</td>\n",
       "      <td>0.00</td>\n",
       "      <td>0.50</td>\n",
       "      <td>1.00</td>\n",
       "      <td>0.00</td>\n",
       "      <td>11.00</td>\n",
       "    </tr>\n",
       "    <tr>\n",
       "      <th>75%</th>\n",
       "      <td>14.00</td>\n",
       "      <td>0.50</td>\n",
       "      <td>0.50</td>\n",
       "      <td>2.00</td>\n",
       "      <td>0.00</td>\n",
       "      <td>16.50</td>\n",
       "    </tr>\n",
       "    <tr>\n",
       "      <th>max</th>\n",
       "      <td>500.00</td>\n",
       "      <td>15.00</td>\n",
       "      <td>0.50</td>\n",
       "      <td>200.00</td>\n",
       "      <td>20.00</td>\n",
       "      <td>628.10</td>\n",
       "    </tr>\n",
       "  </tbody>\n",
       "</table>\n",
       "</div>"
      ],
      "text/plain": [
       "       fare_amount    surcharge      mta_tax   tip_amount tolls_amount  \\\n",
       "count  15100468.00  15100468.00  15100468.00  15100468.00  15100468.00   \n",
       "mean         12.27         0.33         0.50         1.35         0.24   \n",
       "std           9.96         0.37         0.03         2.13         1.19   \n",
       "min           2.50         0.00         0.00         0.00         0.00   \n",
       "25%           6.50         0.00         0.50         0.00         0.00   \n",
       "50%           9.50         0.00         0.50         1.00         0.00   \n",
       "75%          14.00         0.50         0.50         2.00         0.00   \n",
       "max         500.00        15.00         0.50       200.00        20.00   \n",
       "\n",
       "      total_amount  \n",
       "count  15100468.00  \n",
       "mean         14.69  \n",
       "std          11.94  \n",
       "min           2.50  \n",
       "25%           8.00  \n",
       "50%          11.00  \n",
       "75%          16.50  \n",
       "max         628.10  "
      ]
     },
     "execution_count": 14,
     "metadata": {},
     "output_type": "execute_result"
    }
   ],
   "source": [
    "clean_fare.describe().apply(lambda s: s.apply('{0:.2f}'.format))"
   ]
  },
  {
   "cell_type": "code",
   "execution_count": 15,
   "id": "62010179",
   "metadata": {},
   "outputs": [
    {
     "data": {
      "text/html": [
       "<div>\n",
       "<style scoped>\n",
       "    .dataframe tbody tr th:only-of-type {\n",
       "        vertical-align: middle;\n",
       "    }\n",
       "\n",
       "    .dataframe tbody tr th {\n",
       "        vertical-align: top;\n",
       "    }\n",
       "\n",
       "    .dataframe thead th {\n",
       "        text-align: right;\n",
       "    }\n",
       "</style>\n",
       "<table border=\"1\" class=\"dataframe\">\n",
       "  <thead>\n",
       "    <tr style=\"text-align: right;\">\n",
       "      <th></th>\n",
       "      <th>passenger_count</th>\n",
       "      <th>trip_time_in_secs</th>\n",
       "      <th>trip_distance</th>\n",
       "      <th>pickup_longitude</th>\n",
       "      <th>pickup_latitude</th>\n",
       "      <th>dropoff_longitude</th>\n",
       "      <th>dropoff_latitude</th>\n",
       "    </tr>\n",
       "  </thead>\n",
       "  <tbody>\n",
       "    <tr>\n",
       "      <th>count</th>\n",
       "      <td>15100468.00</td>\n",
       "      <td>15100468.00</td>\n",
       "      <td>15100468.00</td>\n",
       "      <td>15100468.00</td>\n",
       "      <td>15100468.00</td>\n",
       "      <td>15100322.00</td>\n",
       "      <td>15100322.00</td>\n",
       "    </tr>\n",
       "    <tr>\n",
       "      <th>mean</th>\n",
       "      <td>1.71</td>\n",
       "      <td>746.61</td>\n",
       "      <td>2.86</td>\n",
       "      <td>-72.73</td>\n",
       "      <td>40.07</td>\n",
       "      <td>-72.69</td>\n",
       "      <td>40.05</td>\n",
       "    </tr>\n",
       "    <tr>\n",
       "      <th>std</th>\n",
       "      <td>1.39</td>\n",
       "      <td>550.44</td>\n",
       "      <td>3.34</td>\n",
       "      <td>9.73</td>\n",
       "      <td>6.96</td>\n",
       "      <td>9.86</td>\n",
       "      <td>6.98</td>\n",
       "    </tr>\n",
       "    <tr>\n",
       "      <th>min</th>\n",
       "      <td>0.00</td>\n",
       "      <td>0.00</td>\n",
       "      <td>0.00</td>\n",
       "      <td>-2323.42</td>\n",
       "      <td>-3481.14</td>\n",
       "      <td>-2771.29</td>\n",
       "      <td>-3547.90</td>\n",
       "    </tr>\n",
       "    <tr>\n",
       "      <th>25%</th>\n",
       "      <td>1.00</td>\n",
       "      <td>360.00</td>\n",
       "      <td>1.04</td>\n",
       "      <td>-73.99</td>\n",
       "      <td>40.74</td>\n",
       "      <td>-73.99</td>\n",
       "      <td>40.73</td>\n",
       "    </tr>\n",
       "    <tr>\n",
       "      <th>50%</th>\n",
       "      <td>1.00</td>\n",
       "      <td>600.00</td>\n",
       "      <td>1.78</td>\n",
       "      <td>-73.98</td>\n",
       "      <td>40.75</td>\n",
       "      <td>-73.98</td>\n",
       "      <td>40.75</td>\n",
       "    </tr>\n",
       "    <tr>\n",
       "      <th>75%</th>\n",
       "      <td>2.00</td>\n",
       "      <td>960.00</td>\n",
       "      <td>3.20</td>\n",
       "      <td>-73.97</td>\n",
       "      <td>40.77</td>\n",
       "      <td>-73.96</td>\n",
       "      <td>40.77</td>\n",
       "    </tr>\n",
       "    <tr>\n",
       "      <th>max</th>\n",
       "      <td>9.00</td>\n",
       "      <td>10800.00</td>\n",
       "      <td>100.00</td>\n",
       "      <td>2228.72</td>\n",
       "      <td>3210.39</td>\n",
       "      <td>2228.75</td>\n",
       "      <td>3577.13</td>\n",
       "    </tr>\n",
       "  </tbody>\n",
       "</table>\n",
       "</div>"
      ],
      "text/plain": [
       "      passenger_count trip_time_in_secs trip_distance pickup_longitude  \\\n",
       "count     15100468.00       15100468.00   15100468.00      15100468.00   \n",
       "mean             1.71            746.61          2.86           -72.73   \n",
       "std              1.39            550.44          3.34             9.73   \n",
       "min              0.00              0.00          0.00         -2323.42   \n",
       "25%              1.00            360.00          1.04           -73.99   \n",
       "50%              1.00            600.00          1.78           -73.98   \n",
       "75%              2.00            960.00          3.20           -73.97   \n",
       "max              9.00          10800.00        100.00          2228.72   \n",
       "\n",
       "      pickup_latitude dropoff_longitude dropoff_latitude  \n",
       "count     15100468.00       15100322.00      15100322.00  \n",
       "mean            40.07            -72.69            40.05  \n",
       "std              6.96              9.86             6.98  \n",
       "min          -3481.14          -2771.29         -3547.90  \n",
       "25%             40.74            -73.99            40.73  \n",
       "50%             40.75            -73.98            40.75  \n",
       "75%             40.77            -73.96            40.77  \n",
       "max           3210.39           2228.75          3577.13  "
      ]
     },
     "execution_count": 15,
     "metadata": {},
     "output_type": "execute_result"
    }
   ],
   "source": [
    "clean_data.describe().apply(lambda s: s.apply('{0:.2f}'.format))"
   ]
  },
  {
   "cell_type": "markdown",
   "id": "8858a609",
   "metadata": {},
   "source": [
    "The ranges make sense and it doesn't look like the data needs any more cleaning."
   ]
  },
  {
   "cell_type": "markdown",
   "id": "f16b0ded",
   "metadata": {},
   "source": [
    "## Saving for later use"
   ]
  },
  {
   "cell_type": "code",
   "execution_count": 16,
   "id": "764c4402",
   "metadata": {},
   "outputs": [],
   "source": [
    "# Saving dataframes as a python object to use in another notebook\n",
    "clean_fare.to_pickle('data/clean_fare.pickle')\n",
    "clean_data.to_pickle('data/clean_data.pickle')"
   ]
  }
 ],
 "metadata": {
  "kernelspec": {
   "display_name": "Python 3 (ipykernel)",
   "language": "python",
   "name": "python3"
  },
  "language_info": {
   "codemirror_mode": {
    "name": "ipython",
    "version": 3
   },
   "file_extension": ".py",
   "mimetype": "text/x-python",
   "name": "python",
   "nbconvert_exporter": "python",
   "pygments_lexer": "ipython3",
   "version": "3.8.10"
  }
 },
 "nbformat": 4,
 "nbformat_minor": 5
}
